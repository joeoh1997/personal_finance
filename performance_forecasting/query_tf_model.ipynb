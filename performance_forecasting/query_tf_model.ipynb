{
 "cells": [
  {
   "cell_type": "code",
   "execution_count": null,
   "id": "4db0d240",
   "metadata": {},
   "outputs": [],
   "source": [
    "import pickle \n",
    "\n",
    "import random\n",
    "import numpy as np\n",
    "import pandas as pd\n",
    "from sklearn.preprocessing import OneHotEncoder\n",
    "import plotly.express as px\n",
    "import matplotlib.pyplot as plt\n",
    "from tqdm import tqdm\n",
    "import tensorflow as tf\n",
    "\n",
    "import os\n",
    "os.chdir('..')\n",
    "\n",
    "from performance_forecasting.data_creator import download_statement_data_for_exchanges"
   ]
  },
  {
   "cell_type": "code",
   "execution_count": null,
   "id": "e7303d14",
   "metadata": {
    "scrolled": true
   },
   "outputs": [],
   "source": [
    "def get_predictions(\n",
    "    input_data, \n",
    "    sess, \n",
    "    batch_size,\n",
    "    placeholder_varname,\n",
    "    prediction_op, \n",
    "    dtype=np.float32\n",
    "):\n",
    "    input_data = input_data.reset_index(drop=True)\n",
    "    preds = pd.DataFrame(\n",
    "        columns=['next_year_revenue_pred', 'next_year_freeCashFlow_pred'],\n",
    "        data=np.zeros([len(input_data), 2])\n",
    "        \n",
    "    )\n",
    "    _input_cols = [col for col in input_data.columns if col != 'symbol']\n",
    "\n",
    "    for j in range(0, len(input_data), batch_size): \n",
    "        preds.iloc[j: j+batch_size] = sess.run(\n",
    "            prediction_op,\n",
    "            {\n",
    "                placeholder_varname: input_data.iloc[\n",
    "                    j: j+batch_size\n",
    "                ][_input_cols]\n",
    "            }\n",
    "        )\n",
    "        \n",
    "    preds['symbol'] = input_data['symbol']\n",
    "    \n",
    "    return preds\n",
    "            \n",
    "\n",
    "def plot_predictions(\n",
    "    input_data, \n",
    "    targets, \n",
    "    sess, \n",
    "    batch_size, \n",
    "    placeholder_varname, \n",
    "    prediction_op, \n",
    "    dtype=np.float32\n",
    "):\n",
    " \n",
    "    preds = get_predictions(\n",
    "        input_data, sess, batch_size, placeholder_varname, prediction_op, dtype\n",
    "    )\n",
    "    \n",
    "    results = pd.concat([targets, preds], axis=1)\n",
    "    \n",
    "    plt = px.scatter(\n",
    "        results,\n",
    "        x='next_year_revenue_bn_scale_tg',\n",
    "        y='next_year_revenue_pred'\n",
    "    )\n",
    "    plt.show()\n",
    "    \n",
    "    plt = px.scatter(\n",
    "        results,\n",
    "        x='next_year_freeCashFlow_bn_scale_tg',\n",
    "        y='next_year_freeCashFlow_pred'\n",
    "    )\n",
    "    plt.show()\n",
    "    return preds"
   ]
  },
  {
   "cell_type": "code",
   "execution_count": null,
   "id": "ad53a241",
   "metadata": {},
   "outputs": [],
   "source": [
    "# allow_pickle=True    \n",
    "        \n",
    "class Dataset():\n",
    "    def __init__(self, dataset_affix):\n",
    "        dataset_names = ['train', 'test', 'val', 'next_year']\n",
    "        dataset = {}\n",
    "\n",
    "        for key in dataset_names:\n",
    "            dataset['x_'+key] = pd.read_csv(\n",
    "                f'data/performance_forecasting/{key}_input{dataset_affix}.csv', \n",
    "                index_col=0\n",
    "            )\n",
    "            dataset['y_'+key] = pd.read_csv(\n",
    "                f'data/performance_forecasting/{key}_output{dataset_affix}.csv', \n",
    "                index_col=0\n",
    "            )\n",
    "\n",
    "        self.x_train, self.y_train = dataset['x_train'], dataset['y_train']\n",
    "        self.x_test, self.y_test = dataset['x_test'], dataset['y_test']\n",
    "        self.x_val, self.y_val = dataset['x_val'], dataset['y_val']\n",
    "        self.x_val, self.y_val = dataset['x_val'], dataset['y_val']\n",
    "        self.x_next_year, self.y_next_year = dataset['x_next_year'], dataset['y_next_year']"
   ]
  },
  {
   "cell_type": "code",
   "execution_count": null,
   "id": "608bb96d",
   "metadata": {},
   "outputs": [],
   "source": [
    "[\n",
    "    p.strip('train_input').strip('.npy') \n",
    "    for p in os.listdir('data/performance_forecasting/') \n",
    "    if 'train_input' in p\n",
    "] "
   ]
  },
  {
   "cell_type": "code",
   "execution_count": null,
   "id": "786134bd",
   "metadata": {
    "scrolled": false
   },
   "outputs": [],
   "source": [
    "run = 1\n",
    "\n",
    "dir_path = 'performance_forecasting/models/'+str(run)+'/'\n",
    "\n",
    "params = pickle.load(open(dir_path+'model.pkl', 'rb'), errors='latin1')\n",
    "dataset = Dataset(params['dataset_affix'])\n",
    "\n",
    "\n",
    "df = None\n",
    "next_year_preds = None\n",
    "\n",
    "with tf.compat.v1.Session(graph=tf.Graph()) as sess:\n",
    "    tf.compat.v1.saved_model.loader.load(sess, [\"serve\"], dir_path+'tf')\n",
    "    graph = tf.compat.v1.get_default_graph()\n",
    "\n",
    "    plot_predictions(\n",
    "        dataset.x_test, \n",
    "        dataset.y_test,\n",
    "        sess, \n",
    "        batch_size=32,\n",
    "        placeholder_varname='x_placeholder_saved:0',\n",
    "        prediction_op='prediction:0', \n",
    "    )\n",
    "    \n",
    "    next_year_preds = get_predictions(\n",
    "        dataset.x_next_year, \n",
    "        sess, \n",
    "        batch_size=32,\n",
    "        placeholder_varname='x_placeholder_saved:0',\n",
    "        prediction_op='prediction:0', \n",
    "    )\n",
    "    \n"
   ]
  },
  {
   "cell_type": "code",
   "execution_count": null,
   "id": "1e68a2c9",
   "metadata": {},
   "outputs": [],
   "source": [
    "dataset.y_val"
   ]
  },
  {
   "cell_type": "code",
   "execution_count": null,
   "id": "f994a662",
   "metadata": {},
   "outputs": [],
   "source": [
    "dataset.y_val.loc[\n",
    "    dataset.y_val['symbol'] == 'SUMO', \n",
    "    ['next_year_revenue_bn_scale_tg', 'next_year_freeCashFlow_bn_scale_tg']\n",
    "]*1000000"
   ]
  },
  {
   "cell_type": "code",
   "execution_count": null,
   "id": "2659fbdd",
   "metadata": {},
   "outputs": [],
   "source": [
    "next_year_preds.loc[\n",
    "    next_year_preds['symbol'] == 'SUMO', \n",
    "    ['next_year_revenue_pred', 'next_year_freeCashFlow_pred']\n",
    "]*1000000"
   ]
  },
  {
   "cell_type": "code",
   "execution_count": null,
   "id": "51a2b619",
   "metadata": {},
   "outputs": [],
   "source": [
    "next_year_preds['symbol'].value_counts()"
   ]
  },
  {
   "cell_type": "code",
   "execution_count": null,
   "id": "02d8d954",
   "metadata": {},
   "outputs": [],
   "source": [
    "import plotly.express as px\n",
    "fig = px.scatter(df, x=\"free_cashlow_pred\", y=\"free_cashlow\")\n",
    "fig.show()"
   ]
  },
  {
   "cell_type": "code",
   "execution_count": null,
   "id": "3eb3d843",
   "metadata": {},
   "outputs": [],
   "source": [
    "\"\"\"\n",
    "    for var in tf.compat.v1.get_collection(tf.compat.v1.GraphKeys.VARIABLES)\n",
    "    for v in tf.compat.v1.get_default_graph().get_operations()\n",
    "    for n in tf.compat.v1.get_default_graph().as_graph_def().node\n",
    "    all_vars = tf.global_variables()\n",
    "    tf.compat.v1.get_default_graph().get_tensor_by_name('x_placeholder')\n",
    "    tf.compat.v1.get_default_graph().get_operation_by_name('x_placeholder')\n",
    "\"\"\""
   ]
  }
 ],
 "metadata": {
  "kernelspec": {
   "display_name": "Python 3 (ipykernel)",
   "language": "python",
   "name": "python3"
  },
  "language_info": {
   "codemirror_mode": {
    "name": "ipython",
    "version": 3
   },
   "file_extension": ".py",
   "mimetype": "text/x-python",
   "name": "python",
   "nbconvert_exporter": "python",
   "pygments_lexer": "ipython3",
   "version": "3.8.10"
  }
 },
 "nbformat": 4,
 "nbformat_minor": 5
}
