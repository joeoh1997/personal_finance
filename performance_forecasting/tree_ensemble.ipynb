{
 "cells": [
  {
   "cell_type": "code",
   "execution_count": null,
   "id": "592761f5",
   "metadata": {},
   "outputs": [],
   "source": [
    "import numpy as np\n",
    "import pandas as pd\n",
    "import plotly.express as px\n",
    "import matplotlib.pyplot as plt\n",
    "from catboost import CatBoostRegressor, Pool\n",
    "from tqdm import tqdm\n",
    "\n",
    "import os\n",
    "os.chdir('..')"
   ]
  },
  {
   "cell_type": "code",
   "execution_count": null,
   "id": "e39f6479",
   "metadata": {},
   "outputs": [],
   "source": [
    "[\n",
    "    p.strip('train_input').strip('.npy') \n",
    "    for p in os.listdir('data/performance_forecasting/') \n",
    "    if 'train_input' in p\n",
    "] "
   ]
  },
  {
   "cell_type": "code",
   "execution_count": null,
   "id": "483c6722",
   "metadata": {},
   "outputs": [],
   "source": [
    "class Dataset():\n",
    "    def __init__(self, dataset_affix):\n",
    "        dataset_names = ['train', 'test', 'val']\n",
    "        dataset = {}\n",
    "\n",
    "        for key in dataset_names:\n",
    "            dataset['x_'+key] = pd.read_csv(\n",
    "                f'data/performance_forecasting/{key}_input_{dataset_affix}.csv',\n",
    "                index_col=0\n",
    "            )\n",
    "            dataset['y_'+key] = pd.read_csv(\n",
    "                f'data/performance_forecasting/{key}_output_{dataset_affix}.csv',\n",
    "                index_col=0\n",
    "            )\n",
    "\n",
    "        self.x_train, self.y_train = dataset['x_train'], dataset['y_train']\n",
    "        self.x_test, self.y_test = dataset['x_test'], dataset['y_test']\n",
    "        self.x_val, self.y_val = dataset['x_val'], dataset['y_val']"
   ]
  },
  {
   "cell_type": "code",
   "execution_count": null,
   "id": "a3c84ca7",
   "metadata": {},
   "outputs": [],
   "source": [
    "dataset = Dataset('bn_cat_NO10EMA_JFCF_UP21bn')"
   ]
  },
  {
   "cell_type": "code",
   "execution_count": null,
   "id": "4ed1d43e",
   "metadata": {},
   "outputs": [],
   "source": [
    "dataset.y_train"
   ]
  },
  {
   "cell_type": "code",
   "execution_count": null,
   "id": "cfa452d9",
   "metadata": {},
   "outputs": [],
   "source": [
    "symbol = [col for col in dataset.x_train.columns if 'symbol' in col]\n",
    "symbol"
   ]
  },
  {
   "cell_type": "code",
   "execution_count": null,
   "id": "5bfc100a",
   "metadata": {},
   "outputs": [],
   "source": [
    "cat_inputs = [\n",
    " # 'symbol',\n",
    " 'year',\n",
    " 'years_since_public',\n",
    " 'sector',\n",
    " 'country',\n",
    " 'industry',\n",
    " 'exchange',\n",
    " 'currency'\n",
    "]\n",
    "\n",
    "train_pool = Pool(\n",
    "    dataset.x_train.drop(symbol, axis=1), \n",
    "    label=dataset.y_train.drop('symbol', axis=1),\n",
    "    cat_features=cat_inputs\n",
    ")\n",
    "test_pool = Pool(\n",
    "    dataset.x_test.drop(symbol, axis=1), \n",
    "    label=dataset.y_test.drop('symbol', axis=1),\n",
    "    cat_features=cat_inputs\n",
    ")\n",
    "\n",
    "loss_functions = [\n",
    "    'MAE', 'MAPE', 'RMSE'\n",
    "] #'Quantile', 'LogLinQuantile', 'Poisson', 'RMSE'\n",
    "\n",
    "\n",
    "policy = 'Lossguide' # Depthwise, Lossguide, SymmetricTree \n",
    "model = None\n",
    "\n",
    "for l in loss_functions:\n",
    "\n",
    "    model = CatBoostRegressor(\n",
    "        iterations=3000, verbose=False, learning_rate=0.01,\n",
    "        depth=15, l2_leaf_reg=2, loss_function=l, grow_policy=policy, max_leaves=55\n",
    "    )\n",
    "\n",
    "    model.fit(\n",
    "        train_pool, \n",
    "        plot=True,\n",
    "        eval_set=test_pool\n",
    "    )\n",
    "    \n",
    "    results = pd.DataFrame()\n",
    "    results['preds'] = model.predict(test_pool)\n",
    "    results['labels'] = test_pool.label\n",
    "    results = results.sort_values(by='labels')\n",
    "\n",
    "    plt = px.scatter(\n",
    "        results,\n",
    "        x='preds',\n",
    "        y='labels'\n",
    "    )\n",
    "    plt.show()\n",
    "    \n",
    "    results = pd.DataFrame()\n",
    "    results['preds'] = model.predict(train_pool)\n",
    "    results['labels'] = train_pool.label\n",
    "    results = results.sort_values(by='labels')\n",
    "\n",
    "    plt = px.scatter(\n",
    "        results,\n",
    "        x='preds',\n",
    "        y='labels'\n",
    "    )\n",
    "    plt.show()\n",
    "\n",
    "# # {'learning_rate': [0.01, 0.1],\n",
    "# grid = {\n",
    "#     'depth': [8, 15],\n",
    "#     'l2_leaf_reg': [1, 5, 15]\n",
    "# }\n",
    "\n",
    "# grid_search_result = model.grid_search(\n",
    "#     grid, X=train_pool, plot=True,  cv=3\n",
    "# )\n",
    "\"\"\"\n",
    "    model = CatBoostRegressor(\n",
    "        iterations=900, verbose=False, learning_rate=0.01,\n",
    "        depth=6, l2_leaf_reg=5, loss_function=l\n",
    "    )\n",
    "\n",
    "\"\"\"\n"
   ]
  },
  {
   "cell_type": "code",
   "execution_count": null,
   "id": "00dcf394",
   "metadata": {
    "scrolled": false
   },
   "outputs": [],
   "source": [
    "#from sklearn.experimental import enable_halving_search_cv\n",
    "from sklearn.model_selection import GridSearchCV\n",
    "from sklearn.tree import DecisionTreeRegressor\n",
    "\n",
    "dtr = DecisionTreeRegressor(\n",
    "    #min_samples_leaf=4, \n",
    "    #min_samples_split=6, \n",
    "    random_state=1221\n",
    ")\n",
    "\n",
    "param_grid = {\n",
    "    \"max_depth\": [3], #, 4, 5 ], #6, 9, 12],\n",
    "    \"criterion\":['mse', 'mae'] #,'friedman_mse', 'poisson'],\n",
    "}\n",
    "search = GridSearchCV(\n",
    "    dtr, param_grid,\n",
    "    cv=4,\n",
    "    n_jobs=2\n",
    ").fit(\n",
    "    dataset.x_train.drop('symbol', axis=1), \n",
    "    dataset.y_train['next_year_freeCashFlow_bn_scale_tg']\n",
    ")"
   ]
  },
  {
   "cell_type": "code",
   "execution_count": null,
   "id": "ad3edbde",
   "metadata": {},
   "outputs": [],
   "source": []
  }
 ],
 "metadata": {
  "kernelspec": {
   "display_name": "Python 3 (ipykernel)",
   "language": "python",
   "name": "python3"
  },
  "language_info": {
   "codemirror_mode": {
    "name": "ipython",
    "version": 3
   },
   "file_extension": ".py",
   "mimetype": "text/x-python",
   "name": "python",
   "nbconvert_exporter": "python",
   "pygments_lexer": "ipython3",
   "version": "3.8.10"
  }
 },
 "nbformat": 4,
 "nbformat_minor": 5
}
