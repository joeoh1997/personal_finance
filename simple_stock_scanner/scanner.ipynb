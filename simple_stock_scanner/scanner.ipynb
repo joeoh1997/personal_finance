{
 "cells": [
  {
   "cell_type": "code",
   "execution_count": null,
   "id": "2ef51631",
   "metadata": {},
   "outputs": [],
   "source": [
    "import pandas as pd\n",
    "import matplotlib.pyplot as plt\n",
    "import numpy as np"
   ]
  },
  {
   "cell_type": "markdown",
   "id": "6d585892",
   "metadata": {},
   "source": [
    "### Read Data"
   ]
  },
  {
   "cell_type": "code",
   "execution_count": null,
   "id": "e63d00ba",
   "metadata": {},
   "outputs": [],
   "source": [
    "scanner_df = pd.read_csv('../data/statements/yearly/ratio_and_model_data.csv', index_col=0)\n",
    "display(scanner_df[:10])"
   ]
  },
  {
   "cell_type": "markdown",
   "id": "775e1f31",
   "metadata": {},
   "source": [
    "### Verify w0 & w1 with plot"
   ]
  },
  {
   "cell_type": "code",
   "execution_count": null,
   "id": "bc1cdc03",
   "metadata": {},
   "outputs": [],
   "source": [
    "\n",
    "def line(w0, w1, num_samps=1000):\n",
    "    print(\"w0 =\", w0, \", w1 =\", w1)\n",
    "    xs = np.random.uniform(0, 20, num_samps) \n",
    "    ys = []\n",
    "    \n",
    "    for x in xs: \n",
    "        ys.append(w0*x + w1)\n",
    "        \n",
    "    return xs, ys\n",
    "\n",
    "index = 140\n",
    "\n",
    "print(scanner_df.loc[index, 'ticker'])\n",
    "\n",
    "x, y = line(scanner_df.loc[index, 'w0_revenue'], scanner_df.loc[index, 'w1_revenue'])\n",
    "\n",
    "plt.plot(x, y)\n",
    "plt.show()"
   ]
  },
  {
   "cell_type": "markdown",
   "id": "fcab141d",
   "metadata": {},
   "source": [
    "### Select stocks"
   ]
  },
  {
   "cell_type": "code",
   "execution_count": null,
   "id": "b64a6958",
   "metadata": {},
   "outputs": [],
   "source": [
    "min_slope = 0.5\n",
    "max_book = 1.7\n",
    "max_price_to_sales = 1.7\n",
    "max_price_to_earnings = 18\n",
    "max_earnings_to_growth = 0.7 \n",
    "\n",
    "selected_df = scanner_df[scanner_df['w0_revenue'] > min_slope]\n",
    "selected_df = selected_df[selected_df['w0_grossProfit'] > min_slope]\n",
    "selected_df = selected_df[selected_df['w0_freeCashFlow'] > min_slope]\n",
    "\n",
    "selected_df = selected_df[selected_df['w0_debtRepayment'] < -1*min_slope]\n",
    "\n",
    "selected_df = selected_df[np.logical_and(\n",
    "    selected_df['priceBookValueRatioTTM'] < max_book,\n",
    "    selected_df['priceBookValueRatioTTM'] > 0\n",
    ")]\n",
    "\n",
    "selected_df = selected_df[np.logical_and(\n",
    "    selected_df['priceToSalesRatioTTM'] < max_price_to_sales,\n",
    "    selected_df['priceToSalesRatioTTM'] > 0\n",
    ")]\n",
    "\n",
    "selected_df = selected_df[np.logical_and(\n",
    "    selected_df['priceEarningsRatioTTM'] < max_price_to_earnings,\n",
    "    selected_df['priceEarningsRatioTTM'] > 0\n",
    ")]\n",
    "\n",
    "selected_df = selected_df[np.logical_and(\n",
    "    selected_df['priceEarningsToGrowthRatioTTM'] < max_earnings_to_growth,\n",
    "    selected_df['priceEarningsToGrowthRatioTTM'] > 0\n",
    ")]\n"
   ]
  },
  {
   "cell_type": "code",
   "execution_count": null,
   "id": "1f762704",
   "metadata": {},
   "outputs": [],
   "source": [
    "display(selected_df[[\n",
    "    'ticker', \n",
    "    'priceBookValueRatioTTM', \n",
    "    'priceToSalesRatioTTM', \n",
    "    'priceEarningsRatioTTM', \n",
    "    'priceEarningsToGrowthRatioTTM'\n",
    "]])"
   ]
  }
 ],
 "metadata": {
  "kernelspec": {
   "display_name": "Python 3",
   "language": "python",
   "name": "python3"
  },
  "language_info": {
   "codemirror_mode": {
    "name": "ipython",
    "version": 3
   },
   "file_extension": ".py",
   "mimetype": "text/x-python",
   "name": "python",
   "nbconvert_exporter": "python",
   "pygments_lexer": "ipython3",
   "version": "3.6.12"
  }
 },
 "nbformat": 4,
 "nbformat_minor": 5
}
